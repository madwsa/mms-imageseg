{
  "nbformat": 4,
  "nbformat_minor": 0,
  "metadata": {
    "colab": {
      "name": "CS230-Training-Pipeline.ipynb",
      "provenance": [],
      "collapsed_sections": [],
      "machine_shape": "hm"
    },
    "kernelspec": {
      "name": "python3",
      "display_name": "Python 3"
    },
    "language_info": {
      "name": "python"
    },
    "accelerator": "GPU"
  },
  "cells": [
    {
      "cell_type": "markdown",
      "metadata": {
        "id": "PNlmju68lSPh"
      },
      "source": [
        "**CS230 Final Project**\n",
        "\n",
        "This notebook carries out data processing and model training. Model training is implemented using PyTorch's [SemTorch](https://pypi.org/project/SemTorch/) and [FastAI](https://pypi.org/project/fastai/) libraries. Some of the training code is adapted from [Castillo (2020)'s](https://github.com/WaterKnight1998/Deep-Tumour-Spheroid) implementation of the SemTorch library for tumor segmentation."
      ]
    },
    {
      "cell_type": "code",
      "metadata": {
        "id": "36U859uMucPG"
      },
      "source": [
        "%%capture\n",
        "!pip install fastai\n",
        "!pip install semtorch\n",
        "!pip install torchmetrics"
      ],
      "execution_count": null,
      "outputs": []
    },
    {
      "cell_type": "code",
      "metadata": {
        "id": "FXxFfE57vjxo"
      },
      "source": [
        "%%capture\n",
        "!pip install awscli\n",
        "!pip install s3fs"
      ],
      "execution_count": null,
      "outputs": []
    },
    {
      "cell_type": "code",
      "metadata": {
        "colab": {
          "base_uri": "https://localhost:8080/"
        },
        "id": "pnUWP5m_vl2b",
        "outputId": "728f602b-821a-4654-f6e5-33c29bbb6d28"
      },
      "source": [
        "from fastai.basics import *\n",
        "from fastai.vision import models\n",
        "from fastai.vision.all import *\n",
        "from fastai.metrics import *\n",
        "from fastai.data.all import *\n",
        "from fastai.callback import *\n",
        "\n",
        "from fastcore.xtras import Path\n",
        "\n",
        "from fastai.callback.hook import summary\n",
        "from fastai.callback.progress import ProgressCallback\n",
        "from fastai.callback.schedule import lr_find, fit_flat_cos\n",
        "\n",
        "from fastai.data.block import DataBlock\n",
        "from fastai.data.external import untar_data, URLs\n",
        "from fastai.data.transforms import get_image_files, FuncSplitter, Normalize\n",
        "\n",
        "from fastai.layers import Mish\n",
        "from fastai.losses import BaseLoss\n",
        "from fastai.optimizer import ranger\n",
        "\n",
        "from fastai.torch_core import tensor\n",
        "\n",
        "from fastai.vision.augment import aug_transforms\n",
        "from fastai.vision.core import PILImage, PILMask\n",
        "from fastai.vision.data import ImageBlock, MaskBlock, imagenet_stats\n",
        "from fastai.vision.learner import unet_learner\n",
        "\n",
        "from PIL import Image\n",
        "import numpy as np\n",
        "\n",
        "import torch\n",
        "from torch import nn\n",
        "from torchvision.models.resnet import resnet34\n",
        "import torch.nn.functional as F\n",
        "from torchvision import transforms\n",
        "\n",
        "from pathlib import Path\n",
        "import random"
      ],
      "execution_count": null,
      "outputs": [
        {
          "output_type": "stream",
          "name": "stderr",
          "text": [
            "/usr/local/lib/python3.7/dist-packages/requests/__init__.py:91: RequestsDependencyWarning: urllib3 (1.26.7) or chardet (3.0.4) doesn't match a supported version!\n",
            "  RequestsDependencyWarning)\n"
          ]
        }
      ]
    },
    {
      "cell_type": "code",
      "metadata": {
        "colab": {
          "base_uri": "https://localhost:8080/"
        },
        "id": "_G1KvJoLvoko",
        "outputId": "4b2e05c0-9c3d-413b-88c2-5d9743eeda1d"
      },
      "source": [
        "# SemTorch\n",
        "from semtorch import get_segmentation_learner"
      ],
      "execution_count": null,
      "outputs": [
        {
          "output_type": "stream",
          "name": "stderr",
          "text": [
            "/usr/local/lib/python3.7/dist-packages/torch/nn/_reduction.py:42: UserWarning: size_average and reduce args will be deprecated, please use reduction='mean' instead.\n",
            "  warnings.warn(warning.format(ret))\n"
          ]
        }
      ]
    },
    {
      "cell_type": "code",
      "metadata": {
        "id": "qwN357iLvsVx"
      },
      "source": [
        "%matplotlib inline\n",
        "import numpy as np\n",
        "import zipfile\n",
        "import shutil\n",
        "from tqdm import tqdm\n",
        "from PIL import Image\n",
        "from google.colab import files"
      ],
      "execution_count": null,
      "outputs": []
    },
    {
      "cell_type": "code",
      "metadata": {
        "id": "kQcT7s9Fvs63"
      },
      "source": [
        "# AWS configs\n",
        "import awscli\n",
        "import s3fs"
      ],
      "execution_count": null,
      "outputs": []
    },
    {
      "cell_type": "code",
      "metadata": {
        "id": "lFGzfwQBvtkf"
      },
      "source": [
        "# Setting random seed for reproduceability\n",
        "set_seed(1)\n",
        "torch.backends.cudnn.deterministic = True\n",
        "torch.backends.cudnn.benchmark = False"
      ],
      "execution_count": null,
      "outputs": []
    },
    {
      "cell_type": "code",
      "metadata": {
        "id": "QoaMskdKvuKE"
      },
      "source": [
        "# Set up AWS configure\n",
        "!aws configure"
      ],
      "execution_count": null,
      "outputs": []
    },
    {
      "cell_type": "code",
      "metadata": {
        "colab": {
          "base_uri": "https://localhost:8080/"
        },
        "id": "8OanF7Arvu4g",
        "outputId": "7b0dd5ce-8f29-4beb-a78f-f884809fa6bd"
      },
      "source": [
        "ls"
      ],
      "execution_count": null,
      "outputs": [
        {
          "output_type": "stream",
          "name": "stdout",
          "text": [
            "\u001b[0m\u001b[01;34msample_data\u001b[0m/\n"
          ]
        }
      ]
    },
    {
      "cell_type": "code",
      "metadata": {
        "id": "kfGmVsXnvzrn"
      },
      "source": [
        "!mkdir semantic-segmentation"
      ],
      "execution_count": null,
      "outputs": []
    },
    {
      "cell_type": "code",
      "metadata": {
        "colab": {
          "base_uri": "https://localhost:8080/"
        },
        "id": "bqTAks8Tv04i",
        "outputId": "a9364220-7dd4-4378-cead-0d308c0181ab"
      },
      "source": [
        "ls"
      ],
      "execution_count": null,
      "outputs": [
        {
          "output_type": "stream",
          "name": "stdout",
          "text": [
            "\u001b[0m\u001b[01;34msample_data\u001b[0m/  \u001b[01;34msemantic-segmentation\u001b[0m/\n"
          ]
        }
      ]
    },
    {
      "cell_type": "code",
      "metadata": {
        "id": "Nw8cixBjcIRI"
      },
      "source": [
        "!mkdir ./semantic-segmentation/data-processing"
      ],
      "execution_count": null,
      "outputs": []
    },
    {
      "cell_type": "code",
      "metadata": {
        "id": "1URzP7X-v1q8"
      },
      "source": [
        "%%capture\n",
        "# Extract masks\n",
        "!aws s3 cp s3://blender-satellite-renders/no-palette-masks/no-palette-masks-near.zip ./semantic-segmentation/\n",
        "!aws s3 cp s3://blender-satellite-renders/no-palette-masks/no-palette-masks-chandra.zip ./semantic-segmentation/\n",
        "!aws s3 cp s3://blender-satellite-renders/no-palette-masks/no-palette-masks-ibex.zip ./semantic-segmentation/\n",
        "!aws s3 cp s3://blender-satellite-renders/no-palette-masks/no-palette-masks-cluster-ii.zip ./semantic-segmentation/\n",
        "!aws s3 cp s3://blender-satellite-renders/no-palette-masks/no-palette-masks-clementine.zip ./semantic-segmentation/\n",
        "\n",
        "# Create directories for the masks\n",
        "!mkdir ./semantic-segmentation/data-processing/NEAR\n",
        "!mkdir ./semantic-segmentation/data-processing/chandra\n",
        "!mkdir ./semantic-segmentation/data-processing/ibex\n",
        "!mkdir ./semantic-segmentation/data-processing/clusterII\n",
        "!mkdir ./semantic-segmentation/data-processing/clementine\n",
        "\n",
        "# Unzip the masks\n",
        "with zipfile.ZipFile('./semantic-segmentation/no-palette-masks-near.zip', 'r') as zip_ref:\n",
        "    zip_ref.extractall('./semantic-segmentation/data-processing/NEAR')\n",
        "\n",
        "with zipfile.ZipFile('./semantic-segmentation/no-palette-masks-chandra.zip', 'r') as zip_ref:\n",
        "    zip_ref.extractall('./semantic-segmentation/data-processing/chandra')\n",
        "\n",
        "with zipfile.ZipFile('./semantic-segmentation/no-palette-masks-ibex.zip', 'r') as zip_ref:\n",
        "    zip_ref.extractall('./semantic-segmentation/data-processing/ibex')\n",
        "\n",
        "with zipfile.ZipFile('./semantic-segmentation/no-palette-masks-cluster-ii.zip', 'r') as zip_ref:\n",
        "    zip_ref.extractall('./semantic-segmentation/data-processing/clusterII')\n",
        "\n",
        "with zipfile.ZipFile('./semantic-segmentation/no-palette-masks-clementine.zip', 'r') as zip_ref:\n",
        "    zip_ref.extractall('./semantic-segmentation/data-processing/clementine')"
      ],
      "execution_count": null,
      "outputs": []
    },
    {
      "cell_type": "code",
      "metadata": {
        "id": "E4odWATBd5LU"
      },
      "source": [
        "%%capture\n",
        "# Extract base images\n",
        "!aws s3 cp s3://blender-satellite-renders/stage-NEAR-v0.tar.gz ./semantic-segmentation/data-processing/stage-NEAR-v0.tar.gz\n",
        "!aws s3 cp s3://blender-satellite-renders/stage-chandra-v0.tar.gz ./semantic-segmentation/data-processing/stage-chandra-v0.tar.gz\n",
        "!aws s3 cp s3://blender-satellite-renders/stage-ibex-v0.tar.gz ./semantic-segmentation/data-processing/stage-ibex-v0.tar.gz\n",
        "!aws s3 cp s3://blender-satellite-renders/stage-clusterII-v0.tar.gz ./semantic-segmentation/data-processing/stage-clusterII-v0.tar.gz\n",
        "!aws s3 cp s3://blender-satellite-renders/stage-clementine-v0.tar.gz ./semantic-segmentation/data-processing/stage-clementine-v0.tar.gz\n",
        "\n",
        "# Create directories for the base images\n",
        "!mkdir ./semantic-segmentation/data-processing/NEAR_images\n",
        "!mkdir ./semantic-segmentation/data-processing/chandra_images\n",
        "!mkdir ./semantic-segmentation/data-processing/ibex_images\n",
        "!mkdir ./semantic-segmentation/data-processing/clusterII_images\n",
        "!mkdir ./semantic-segmentation/data-processing/clementine_images\n",
        "\n",
        "# Untar base image\n",
        "!tar -xvzf ./semantic-segmentation/data-processing/stage-NEAR-v0.tar.gz --directory ./semantic-segmentation/data-processing\n",
        "!tar -xvzf ./semantic-segmentation/data-processing/stage-chandra-v0.tar.gz --directory ./semantic-segmentation/data-processing\n",
        "!tar -xvzf ./semantic-segmentation/data-processing/stage-ibex-v0.tar.gz --directory ./semantic-segmentation/data-processing\n",
        "!tar -xvzf ./semantic-segmentation/data-processing/stage-clusterII-v0.tar.gz --directory ./semantic-segmentation/data-processing\n",
        "!tar -xvzf ./semantic-segmentation/data-processing/stage-clementine-v0.tar.gz --directory ./semantic-segmentation/data-processing\n",
        "\n",
        "# Move images into the correct folders\n",
        "!mv ./semantic-segmentation/data-processing/stage-NEAR-v0/image_*  ./semantic-segmentation/data-processing/NEAR_images\n",
        "!mv ./semantic-segmentation/data-processing/stage-chandra-v0/image_*  ./semantic-segmentation/data-processing/chandra_images\n",
        "!mv ./semantic-segmentation/data-processing/stage-ibex-v0/image_*  ./semantic-segmentation/data-processing/ibex_images\n",
        "!mv ./semantic-segmentation/data-processing/stage-clusterII-v0/image_*  ./semantic-segmentation/data-processing/clusterII_images\n",
        "!mv ./semantic-segmentation/data-processing/stage-clementine-v0/image_*  ./semantic-segmentation/data-processing/clementine_images"
      ],
      "execution_count": null,
      "outputs": []
    },
    {
      "cell_type": "code",
      "metadata": {
        "id": "4i30eOJf2yKr"
      },
      "source": [
        "# Now, append the satellite name at the front of all base images\n",
        "for root, dirs, files in os.walk(\"semantic-segmentation/data-processing/NEAR_images\"):\n",
        "    if not files:\n",
        "        continue\n",
        "    prefix = \"NEAR\"\n",
        "    for f in files:\n",
        "        os.rename(os.path.join(root, f), os.path.join(root, \"{}_{}\".format(prefix, f.split('_', 1)[1])))\n",
        "\n",
        "for root, dirs, files in os.walk(\"semantic-segmentation/data-processing/chandra_images\"):\n",
        "    if not files:\n",
        "        continue\n",
        "    prefix = \"chandra\"\n",
        "    for f in files:\n",
        "        os.rename(os.path.join(root, f), os.path.join(root, \"{}_{}\".format(prefix, f.split('_', 1)[1])))\n",
        "\n",
        "for root, dirs, files in os.walk(\"semantic-segmentation/data-processing/ibex_images\"):\n",
        "    if not files:\n",
        "        continue\n",
        "    prefix = \"ibex\"\n",
        "    for f in files:\n",
        "        os.rename(os.path.join(root, f), os.path.join(root, \"{}_{}\".format(prefix, f.split('_', 1)[1])))\n",
        "\n",
        "for root, dirs, files in os.walk(\"semantic-segmentation/data-processing/clusterII_images\"):\n",
        "    if not files:\n",
        "        continue\n",
        "    prefix = \"clusterII\"\n",
        "    for f in files:\n",
        "        os.rename(os.path.join(root, f), os.path.join(root, \"{}_{}\".format(prefix, f.split('_', 1)[1])))\n",
        "\n",
        "for root, dirs, files in os.walk(\"semantic-segmentation/data-processing/clementine_images\"):\n",
        "    if not files:\n",
        "        continue\n",
        "    prefix = \"clementine\"\n",
        "    for f in files:\n",
        "        os.rename(os.path.join(root, f), os.path.join(root, \"{}_{}\".format(prefix, f.split('_', 1)[1])))"
      ],
      "execution_count": null,
      "outputs": []
    },
    {
      "cell_type": "code",
      "metadata": {
        "id": "Dz9dR6Th3I42"
      },
      "source": [
        "# Now, append the satellite name at the front of all labeled images\n",
        "for root, dirs, files in os.walk(\"semantic-segmentation/data-processing/NEAR\"):\n",
        "    if not files:\n",
        "        continue\n",
        "    prefix = \"NEAR\"\n",
        "    for f in files:\n",
        "        os.rename(os.path.join(root, f), os.path.join(root, \"{}_{}\".format(prefix, f.split('_', 1)[1].split('_', 1)[1].split('_', 1)[1])))\n",
        "\n",
        "for root, dirs, files in os.walk(\"semantic-segmentation/data-processing/chandra\"):\n",
        "    if not files:\n",
        "        continue\n",
        "    prefix = \"chandra\"\n",
        "    for f in files:\n",
        "        os.rename(os.path.join(root, f), os.path.join(root, \"{}_{}\".format(prefix, f.split('_', 1)[1].split('_', 1)[1].split('_', 1)[1])))\n",
        "\n",
        "for root, dirs, files in os.walk(\"semantic-segmentation/data-processing/ibex\"):\n",
        "    if not files:\n",
        "        continue\n",
        "    prefix = \"ibex\"\n",
        "    for f in files:\n",
        "        os.rename(os.path.join(root, f), os.path.join(root, \"{}_{}\".format(prefix, f.split('_', 1)[1].split('_', 1)[1].split('_', 1)[1])))\n",
        "\n",
        "for root, dirs, files in os.walk(\"semantic-segmentation/data-processing/clusterII\"):\n",
        "    if not files:\n",
        "        continue\n",
        "    prefix = \"clusterII\"\n",
        "    for f in files:\n",
        "        os.rename(os.path.join(root, f), os.path.join(root, \"{}_{}\".format(prefix, f.split('_', 1)[1].split('_', 1)[1].split('_', 1)[1])))\n",
        "\n",
        "for root, dirs, files in os.walk(\"semantic-segmentation/data-processing/clementine\"):\n",
        "    if not files:\n",
        "        continue\n",
        "    prefix = \"clementine\"\n",
        "    for f in files:\n",
        "        os.rename(os.path.join(root, f), os.path.join(root, \"{}_{}\".format(prefix, f.split('_', 1)[1].split('_', 1)[1].split('_', 1)[1])))\n"
      ],
      "execution_count": null,
      "outputs": []
    },
    {
      "cell_type": "code",
      "metadata": {
        "id": "f2f-dYqqg2Kt"
      },
      "source": [
        "# Create a FINAL image and mask folder\n",
        "os.mkdir('semantic-segmentation/Images')\n",
        "os.mkdir('semantic-segmentation/Masks')"
      ],
      "execution_count": null,
      "outputs": []
    },
    {
      "cell_type": "code",
      "metadata": {
        "id": "CWlREkf8hdp5"
      },
      "source": [
        "# Create three different datasets in each folder\n",
        "os.mkdir('semantic-segmentation/Images/Train_Valid') # Data for training and validation\n",
        "os.mkdir('semantic-segmentation/Images/Test') # Data for testing with the 4 main satellites (in-distribution)\n",
        "os.mkdir('semantic-segmentation/Images/Test-Unseen-Satellite') # Testing with Clementine, the completely unseen satellite (out-of-distribution)\n",
        "\n",
        "os.mkdir('semantic-segmentation/Masks/Train_Valid') # Data for training and validation\n",
        "os.mkdir('semantic-segmentation/Masks/Test') # Data for testing with the 4 main satellites (in-distribution)\n",
        "os.mkdir('semantic-segmentation/Masks/Test-Unseen-Satellite') # Testing with Clementine, the completely unseen satellite (out-of-distribution)"
      ],
      "execution_count": null,
      "outputs": []
    },
    {
      "cell_type": "code",
      "metadata": {
        "id": "eDs-JC7uhdfj"
      },
      "source": [
        "def get_map_file(image):\n",
        "    map_file = image.split('.')[0] + '.png'\n",
        "    assert map_file in maps\n",
        "    return map_file"
      ],
      "execution_count": null,
      "outputs": []
    },
    {
      "cell_type": "code",
      "metadata": {
        "colab": {
          "base_uri": "https://localhost:8080/"
        },
        "id": "iRS-cyWchdSn",
        "outputId": "0501fa19-a495-456d-bc8a-1181c8ab0c2c"
      },
      "source": [
        "# Split into two buckets - one is a hold-out in-distribution test set and one is for training + validation\n",
        "# Split the main 4 satellites into these two buckets\n",
        "for satellite in ['NEAR', 'chandra', 'clusterII', 'ibex']:\n",
        "\n",
        "  image_dir = 'semantic-segmentation/data-processing/' + satellite + '_images/'\n",
        "  masks_dir = 'semantic-segmentation/data-processing/' + satellite\n",
        "  images = [x for x in os.listdir(image_dir) if x[-3:] == 'png']\n",
        "  maps = [x for x in os.listdir(masks_dir) if x[-3:] == 'png']\n",
        "\n",
        "  for image in tqdm(images):\n",
        "      target_set_img = 'semantic-segmentation/Images/Train_Valid' if random.randint(0, 99) < 90 else 'semantic-segmentation/Images/Test' # 90-10 split\n",
        "\n",
        "      target_set_mask = 'semantic-segmentation/Masks/Train_Valid' if target_set_img == 'semantic-segmentation/Images/Train_Valid' else 'semantic-segmentation/Masks/Test'\n",
        "      \n",
        "      image_file_path = os.path.join(image_dir, image)\n",
        "      image_target_path = os.path.join(target_set_img, image)\n",
        "      \n",
        "      map_file_path = os.path.join(masks_dir, get_map_file(image)) # Get the corresponding file from the Masks folder\n",
        "      map_target_path = os.path.join(target_set_mask, get_map_file(image))\n",
        "      \n",
        "      shutil.copy(image_file_path, image_target_path)\n",
        "      shutil.copy(map_file_path, map_target_path)"
      ],
      "execution_count": null,
      "outputs": [
        {
          "output_type": "stream",
          "name": "stderr",
          "text": [
            "100%|██████████| 15000/15000 [00:09<00:00, 1563.38it/s]\n",
            "100%|██████████| 15000/15000 [00:10<00:00, 1475.95it/s]\n",
            "100%|██████████| 15000/15000 [00:09<00:00, 1546.27it/s]\n",
            "100%|██████████| 15000/15000 [00:10<00:00, 1461.67it/s]\n"
          ]
        }
      ]
    },
    {
      "cell_type": "code",
      "metadata": {
        "colab": {
          "base_uri": "https://localhost:8080/"
        },
        "id": "vLockhfkhlKd",
        "outputId": "0ac01d17-1c6b-4966-f663-85a206366c9d"
      },
      "source": [
        "# Now shift ONLY the out-of-distribution satellite (Clementine) into the unseen folder. This is for out-of-distribution testing\n",
        "image_dir = 'semantic-segmentation/data-processing/' + 'clementine' + '_images/'\n",
        "masks_dir = 'semantic-segmentation/data-processing/' + 'clementine'\n",
        "images = [x for x in os.listdir(image_dir) if x[-3:] == 'png']\n",
        "maps = [x for x in os.listdir(masks_dir) if x[-3:] == 'png']\n",
        "\n",
        "for image in tqdm(images):\n",
        "    target_set_img = 'semantic-segmentation/Images/Test-Unseen-Satellite'\n",
        "\n",
        "    target_set_mask = 'semantic-segmentation/Masks/Test-Unseen-Satellite'\n",
        "    \n",
        "    image_file_path = os.path.join(image_dir, image)\n",
        "    image_target_path = os.path.join(target_set_img, image)\n",
        "    \n",
        "    map_file_path = os.path.join(masks_dir, get_map_file(image)) # Get the corresponding file from the Masks folder\n",
        "    map_target_path = os.path.join(target_set_mask, get_map_file(image))\n",
        "    \n",
        "    shutil.copy(image_file_path, image_target_path)\n",
        "    shutil.copy(map_file_path, map_target_path)"
      ],
      "execution_count": null,
      "outputs": [
        {
          "output_type": "stream",
          "name": "stderr",
          "text": [
            "100%|██████████| 1500/1500 [00:00<00:00, 2745.92it/s]\n"
          ]
        }
      ]
    },
    {
      "cell_type": "code",
      "metadata": {
        "id": "94VHcH_Jhk_w"
      },
      "source": [
        "# Set up Images and Labels paths\n",
        "path = Path(\"./semantic-segmentation/\")\n",
        "path_images = path/\"Images\"\n",
        "path_labels = path/\"Masks\"\n",
        "\n",
        "test_name = \"Test\""
      ],
      "execution_count": null,
      "outputs": []
    },
    {
      "cell_type": "code",
      "metadata": {
        "id": "fsBIrbIhhk2f"
      },
      "source": [
        "fnames = get_image_files(path_images)\n",
        "lbl_names = get_image_files(path_labels)"
      ],
      "execution_count": null,
      "outputs": []
    },
    {
      "cell_type": "code",
      "metadata": {
        "colab": {
          "base_uri": "https://localhost:8080/",
          "height": 258
        },
        "id": "iYUBrN1Lhks5",
        "outputId": "edc2a3d1-7bd6-4b8a-afce-540ac79cb43d"
      },
      "source": [
        "img_fn = fnames[1102]\n",
        "img = PILImage.create(img_fn)\n",
        "img.show(figsize=(5,5))"
      ],
      "execution_count": null,
      "outputs": [
        {
          "output_type": "execute_result",
          "data": {
            "text/plain": [
              "<matplotlib.axes._subplots.AxesSubplot at 0x7fd02d4b7550>"
            ]
          },
          "metadata": {},
          "execution_count": 24
        },
        {
          "output_type": "display_data",
          "data": {
            "image/png": "[encoded data removed]",
            "text/plain": [
              "<Figure size 360x360 with 1 Axes>"
            ]
          },
          "metadata": {
            "needs_background": "light"
          }
        }
      ]
    },
    {
      "cell_type": "code",
      "metadata": {
        "id": "b0MjOLMRhkjy"
      },
      "source": [
        "# Grabs the mask for a given base image\n",
        "get_y_fn = lambda x: Path(str(x).replace(\"Images\",\"Masks\"))"
      ],
      "execution_count": null,
      "outputs": []
    },
    {
      "cell_type": "code",
      "metadata": {
        "id": "RXs8VwudhkZs"
      },
      "source": [
        "msk = PILMask.create(get_y_fn(img_fn))"
      ],
      "execution_count": null,
      "outputs": []
    },
    {
      "cell_type": "code",
      "metadata": {
        "colab": {
          "base_uri": "https://localhost:8080/"
        },
        "id": "DwOy2yd6hc5Y",
        "outputId": "2ac4e264-968e-4281-cb90-6b62eac9698e"
      },
      "source": [
        "type(msk)"
      ],
      "execution_count": null,
      "outputs": [
        {
          "output_type": "execute_result",
          "data": {
            "text/plain": [
              "fastai.vision.core.PILMask"
            ]
          },
          "metadata": {},
          "execution_count": 28
        }
      ]
    },
    {
      "cell_type": "code",
      "metadata": {
        "id": "x0Qofkxvw9fQ"
      },
      "source": [
        "# Vocabulary of Class Labels\n",
        "codes = np.array([\"Background\", \"Solar Panels\", \"Drive Shaft\", \"Parabolic Antenna\", \"Satellite Dish\", \"Main Module\",\n",
        "                 \"Telescope\", \"Main Thrusters\", \"Rotational Thrusters\", \"Sensors\", \"Launch Vehicle Adapter\"])\n",
        "\n",
        "def classes_present(tensr):\n",
        "  present_classes = []\n",
        "  for i in range(11):\n",
        "    if i in tensr:\n",
        "      present_classes.append(codes[i])\n",
        "  return present_classes\n",
        "\n",
        "name2id = {v:k for k,v in enumerate(codes)}"
      ],
      "execution_count": null,
      "outputs": []
    },
    {
      "cell_type": "code",
      "metadata": {
        "colab": {
          "base_uri": "https://localhost:8080/"
        },
        "id": "AUuGcjbTwy4j",
        "outputId": "bf566675-911f-4d27-f3aa-e2aea04ea17d"
      },
      "source": [
        "classes_present(tensor(msk))"
      ],
      "execution_count": null,
      "outputs": [
        {
          "output_type": "execute_result",
          "data": {
            "text/plain": [
              "['Background',\n",
              " 'Solar Panels',\n",
              " 'Drive Shaft',\n",
              " 'Parabolic Antenna',\n",
              " 'Satellite Dish',\n",
              " 'Main Module',\n",
              " 'Main Thrusters',\n",
              " 'Rotational Thrusters',\n",
              " 'Sensors']"
            ]
          },
          "metadata": {},
          "execution_count": 30
        }
      ]
    },
    {
      "cell_type": "code",
      "metadata": {
        "colab": {
          "base_uri": "https://localhost:8080/"
        },
        "id": "iTAdpM02xDYs",
        "outputId": "37d1e47e-1e42-4112-9f27-0d0782158f2d"
      },
      "source": [
        "torch.unique(tensor(msk))"
      ],
      "execution_count": null,
      "outputs": [
        {
          "output_type": "execute_result",
          "data": {
            "text/plain": [
              "tensor([0, 1, 2, 3, 4, 5, 7, 8, 9], dtype=torch.uint8)"
            ]
          },
          "metadata": {},
          "execution_count": 31
        }
      ]
    },
    {
      "cell_type": "code",
      "metadata": {
        "id": "wA5qpPfGyQge"
      },
      "source": [
        "# Early Stopping\n",
        "monitor_training=\"valid_loss\"\n",
        "comp_training=np.less\n",
        "\n",
        "monitor_evaluating=\"dice\"\n",
        "comp_evaluating=np.greater\n",
        "\n",
        "patience=2"
      ],
      "execution_count": null,
      "outputs": []
    },
    {
      "cell_type": "code",
      "metadata": {
        "id": "RBaz5xTHxGq8"
      },
      "source": [
        "from albumentations import (\n",
        "    Compose,\n",
        "    OneOf,\n",
        "    ElasticTransform,\n",
        "    GridDistortion, \n",
        "    OpticalDistortion,\n",
        "    Flip,\n",
        "    Rotate,\n",
        "    Transpose,\n",
        "    CLAHE,\n",
        "    ShiftScaleRotate\n",
        ")"
      ],
      "execution_count": null,
      "outputs": []
    },
    {
      "cell_type": "code",
      "metadata": {
        "id": "yzzhnUYgxIMg"
      },
      "source": [
        "class SegmentationAlbumentationsTransform(ItemTransform):\n",
        "    split_idx = 0\n",
        "    def __init__(self, aug): \n",
        "        self.aug = aug\n",
        "    def encodes(self, x):\n",
        "        img,mask = x\n",
        "        aug = self.aug(image=np.array(img), mask=np.array(mask))\n",
        "        return PILImage.create(aug[\"image\"]), PILMask.create(aug[\"mask\"])\n",
        "    \n",
        "transformPipeline=Compose([\n",
        "                        Flip(p=0.5),\n",
        "                        Transpose(p=0.5),\n",
        "                        Rotate(p=0.40,limit=10)\n",
        "                    ],p=1)\n",
        "\n",
        "transformPipeline=SegmentationAlbumentationsTransform(transformPipeline)"
      ],
      "execution_count": null,
      "outputs": []
    },
    {
      "cell_type": "code",
      "metadata": {
        "id": "awVhX9xA0GUU"
      },
      "source": [
        "class TargetMaskConvertTransform(ItemTransform):\n",
        "    def __init__(self): \n",
        "        pass\n",
        "    def encodes(self, x):\n",
        "        img, mask = x\n",
        "        \n",
        "        #Convert to array\n",
        "        mask = np.array(mask)\n",
        "        \n",
        "        # Back to PILMask\n",
        "        mask = PILMask.create(mask)\n",
        "        return img, mask"
      ],
      "execution_count": null,
      "outputs": []
    },
    {
      "cell_type": "code",
      "metadata": {
        "id": "TqZIn32UitTN"
      },
      "source": [
        "manual_name=\"Train_Valid\"\n",
        "\n",
        "path_manual_img = path_images/manual_name\n",
        "path_manual_lbl = path_labels/manual_name\n",
        "\n",
        "fnames_manual = get_image_files(path_manual_img)\n",
        "lbl_names_manual = get_image_files(path_manual_lbl)"
      ],
      "execution_count": null,
      "outputs": []
    },
    {
      "cell_type": "code",
      "metadata": {
        "colab": {
          "base_uri": "https://localhost:8080/",
          "height": 276
        },
        "id": "nwfhfc7_ixvk",
        "outputId": "382b6e01-88a7-4ec0-cb65-4fdf886a2acf"
      },
      "source": [
        "# open and show image\n",
        "img_f = fnames_manual[10]\n",
        "print(img_f)\n",
        "img = PILImage.create(img_f)\n",
        "img.show(figsize=(5, 5))"
      ],
      "execution_count": null,
      "outputs": [
        {
          "output_type": "stream",
          "name": "stdout",
          "text": [
            "semantic-segmentation/Images/Train_Valid/NEAR_312_3.png\n"
          ]
        },
        {
          "output_type": "execute_result",
          "data": {
            "text/plain": [
              "<matplotlib.axes._subplots.AxesSubplot at 0x7fd01c540690>"
            ]
          },
          "metadata": {},
          "execution_count": 38
        },
        {
          "output_type": "display_data",
          "data": {
            "image/png": "[encoded data removed]",
            "text/plain": [
              "<Figure size 360x360 with 1 Axes>"
            ]
          },
          "metadata": {
            "needs_background": "light"
          }
        }
      ]
    },
    {
      "cell_type": "code",
      "metadata": {
        "id": "1_N1hLN00MsD"
      },
      "source": [
        "# Resize image size\n",
        "size = 256"
      ],
      "execution_count": null,
      "outputs": []
    },
    {
      "cell_type": "code",
      "metadata": {
        "id": "J98yYvk5DM8r"
      },
      "source": [
        "# Dice + Focal Loss Function\n",
        "class CombinedLoss:\n",
        "    \"Dice and Focal combined\"\n",
        "    def __init__(self, axis=1, smooth=1., alpha=1.):\n",
        "        store_attr()\n",
        "        self.focal_loss = FocalLossFlat(axis=axis)\n",
        "        self.dice_loss =  DiceLoss(axis, smooth)\n",
        "        \n",
        "    def __call__(self, pred, targ):\n",
        "        return self.focal_loss(pred, targ) + self.alpha * self.dice_loss(pred, targ)\n",
        "    \n",
        "    def decodes(self, x):    return x.argmax(dim=self.axis)\n",
        "    def activation(self, x): return F.softmax(x, dim=self.axis)"
      ],
      "execution_count": null,
      "outputs": []
    },
    {
      "cell_type": "markdown",
      "metadata": {
        "id": "RO9kV03woRWD"
      },
      "source": [
        "**Architecture 1: UNet**"
      ]
    },
    {
      "cell_type": "code",
      "metadata": {
        "id": "CNfvFBVpxQeP"
      },
      "source": [
        "# Define DataBlock and DataLoader\n",
        "manual = DataBlock(blocks=(ImageBlock, MaskBlock(codes)),\n",
        "                   get_items=partial(get_image_files,folders=[manual_name]),\n",
        "                   get_y=get_y_fn,\n",
        "                   splitter=RandomSplitter(valid_pct=0.1,seed=2020),\n",
        "                   item_tfms=[Resize((size,size)), TargetMaskConvertTransform(), transformPipeline],\n",
        "                   batch_tfms=[Normalize.from_stats(*imagenet_stats)]\n",
        ")\n",
        "manual.summary(path_images)\n",
        "dls = manual.dataloaders(path_images,bs=8)\n",
        "dls.show_batch(vmin=0,vmax=1,figsize=(12, 9))\n",
        "dls.vocab=codes"
      ],
      "execution_count": null,
      "outputs": []
    },
    {
      "cell_type": "code",
      "metadata": {
        "colab": {
          "base_uri": "https://localhost:8080/"
        },
        "id": "K8QNZ2yQKYrv",
        "outputId": "6547ce3d-cb3b-44ce-965e-09e45efdaf90"
      },
      "source": [
        "# 48694 images loaded in (this should be training data which is 0.9 * 0.9 * 60k)\n",
        "len(dls.dataset)"
      ],
      "execution_count": null,
      "outputs": [
        {
          "output_type": "execute_result",
          "data": {
            "text/plain": [
              "48694"
            ]
          },
          "metadata": {},
          "execution_count": 41
        }
      ]
    },
    {
      "cell_type": "code",
      "metadata": {
        "id": "FMVGhK0Xoh0C"
      },
      "source": [
        "# Variant 1 - CCE Loss\n",
        "learn = get_segmentation_learner(dls=dls, number_classes=11, segmentation_type=\"Semantic Segmentation\",\n",
        "                                 architecture_name=\"unet\", backbone_name=\"resnet34\", \n",
        "                                 metrics=[DiceMulti()],wd=1e-2,\n",
        "                                 pretrained=True,normalize=True).to_fp16()"
      ],
      "execution_count": null,
      "outputs": []
    },
    {
      "cell_type": "code",
      "metadata": {
        "id": "d0B-n2YXo6mI"
      },
      "source": [
        "learn.lr_find() # find learning rate\n",
        "learn.recorder # plot learning rate graph"
      ],
      "execution_count": null,
      "outputs": []
    },
    {
      "cell_type": "code",
      "metadata": {
        "id": "VTm0jqADo7Mh"
      },
      "source": [
        "fname=\"unet-cce\"\n",
        "\n",
        "callbacksFitBeforeUnfreeze = [\n",
        "    ShowGraphCallback(),\n",
        "    EarlyStoppingCallback(monitor=monitor_training,comp=comp_training, patience=patience),\n",
        "    SaveModelCallback(monitor=monitor_training,comp=comp_training,every_epoch=False,fname=fname)  \n",
        "]\n",
        "learn.fit_one_cycle(5, slice(1e-5,1e-4), cbs=callbacksFitBeforeUnfreeze)"
      ],
      "execution_count": null,
      "outputs": []
    },
    {
      "cell_type": "code",
      "metadata": {
        "id": "u5aTJ3nfohr7"
      },
      "source": [
        "# Variant 2 - Dice Loss\n",
        "learn = get_segmentation_learner(dls=dls, loss_func=DiceLoss(), number_classes=11, segmentation_type=\"Semantic Segmentation\",\n",
        "                                 architecture_name=\"unet\", backbone_name=\"resnet34\", \n",
        "                                 metrics=[DiceMulti()],wd=1e-2,\n",
        "                                 pretrained=True,normalize=True).to_fp16()"
      ],
      "execution_count": null,
      "outputs": []
    },
    {
      "cell_type": "code",
      "metadata": {
        "id": "jzvtuFAxpICX"
      },
      "source": [
        "learn.lr_find() # find learning rate\n",
        "learn.recorder # plot learning rate graph"
      ],
      "execution_count": null,
      "outputs": []
    },
    {
      "cell_type": "code",
      "metadata": {
        "id": "Pd5Kt12fpIe8"
      },
      "source": [
        "fname=\"unet-dice\"\n",
        "\n",
        "callbacksFitBeforeUnfreeze = [\n",
        "    ShowGraphCallback(),\n",
        "    EarlyStoppingCallback(monitor=monitor_training,comp=comp_training, patience=patience),\n",
        "    SaveModelCallback(monitor=monitor_training,comp=comp_training,every_epoch=False,fname=fname)  \n",
        "]\n",
        "learn.fit_one_cycle(5, slice(1e-5,1e-4), cbs=callbacksFitBeforeUnfreeze)"
      ],
      "execution_count": null,
      "outputs": []
    },
    {
      "cell_type": "code",
      "metadata": {
        "id": "yM2ohHqBohjw"
      },
      "source": [
        "# Variant 3 - Dice + Focal Loss\n",
        "learn = get_segmentation_learner(dls=dls, loss_func=CombinedLoss(), number_classes=11, segmentation_type=\"Semantic Segmentation\",\n",
        "                                 architecture_name=\"unet\", backbone_name=\"resnet34\", \n",
        "                                 metrics=[DiceMulti()],wd=1e-2,\n",
        "                                 pretrained=True,normalize=True).to_fp16()"
      ],
      "execution_count": null,
      "outputs": []
    },
    {
      "cell_type": "code",
      "metadata": {
        "id": "NLv3aEjmohb0"
      },
      "source": [
        "learn.lr_find() # find learning rate\n",
        "learn.recorder # plot learning rate graph"
      ],
      "execution_count": null,
      "outputs": []
    },
    {
      "cell_type": "code",
      "metadata": {
        "id": "m-GLpAnPohSH"
      },
      "source": [
        "fname=\"unet-dice+focal\"\n",
        "\n",
        "callbacksFitBeforeUnfreeze = [\n",
        "    ShowGraphCallback(),\n",
        "    EarlyStoppingCallback(monitor=monitor_training,comp=comp_training, patience=patience),\n",
        "    SaveModelCallback(monitor=monitor_training,comp=comp_training,every_epoch=False,fname=fname)  \n",
        "]\n",
        "learn.fit_one_cycle(5, slice(1e-5,1e-4), cbs=callbacksFitBeforeUnfreeze)"
      ],
      "execution_count": null,
      "outputs": []
    },
    {
      "cell_type": "markdown",
      "metadata": {
        "id": "nSTnEo-2pZP7"
      },
      "source": [
        "**Architecture 2 - HRNet**"
      ]
    },
    {
      "cell_type": "code",
      "metadata": {
        "id": "CJkef3EJpPt0"
      },
      "source": [
        "# Define DataBlock and DataLoader\n",
        "manual = DataBlock(blocks=(ImageBlock, MaskBlock(codes)),\n",
        "                   get_items=partial(get_image_files,folders=[manual_name]),\n",
        "                   get_y=get_y_fn,\n",
        "                   splitter=RandomSplitter(valid_pct=0.1,seed=2020),\n",
        "                   item_tfms=[Resize((size,size)), TargetMaskConvertTransform(), transformPipeline],\n",
        "                   batch_tfms=[Normalize.from_stats(*imagenet_stats)]\n",
        ")\n",
        "manual.summary(path_images)\n",
        "dls = manual.dataloaders(path_images,bs=16)\n",
        "dls.show_batch(vmin=0,vmax=1,figsize=(12, 9))\n",
        "dls.vocab=codes\n",
        "\n",
        "def hrnet_splitter(model):\n",
        "    return [params(model.backbone), params(model.head)]"
      ],
      "execution_count": null,
      "outputs": []
    },
    {
      "cell_type": "code",
      "metadata": {
        "id": "bG8RCZRTpj1y"
      },
      "source": [
        "# Variant 1 - CCE Loss\n",
        "learn = get_segmentation_learner(dls=dls,\n",
        "                                 number_classes=11, segmentation_type=\"Semantic Segmentation\",\n",
        "                                 architecture_name=\"hrnet\", backbone_name=\"hrnet_w30\", \n",
        "                                 metrics=[DiceMulti()], wd=1e-2,\n",
        "                                 splitter=hrnet_splitter, pretrained=True).to_fp16()\n",
        "learn.freeze() # Freezing the backbone"
      ],
      "execution_count": null,
      "outputs": []
    },
    {
      "cell_type": "code",
      "metadata": {
        "id": "pGEAz-nKpjt3"
      },
      "source": [
        "learn.lr_find() # find learning rate\n",
        "learn.recorder # plot learning rate graph"
      ],
      "execution_count": null,
      "outputs": []
    },
    {
      "cell_type": "code",
      "metadata": {
        "id": "ETNli0NApjmp"
      },
      "source": [
        "fname=\"hr-cce\"\n",
        "\n",
        "callbacksFitBeforeUnfreeze = [\n",
        "    ShowGraphCallback(),\n",
        "    EarlyStoppingCallback(monitor=monitor_training,comp=comp_training, patience=patience),\n",
        "    SaveModelCallback(monitor=monitor_training,comp=comp_training,every_epoch=False,fname=fname)  \n",
        "]\n",
        "learn.fit_one_cycle(5, slice(5e-3,1e-2), cbs=callbacksFitBeforeUnfreeze)"
      ],
      "execution_count": null,
      "outputs": []
    },
    {
      "cell_type": "code",
      "metadata": {
        "id": "L6sywwvBpjfI"
      },
      "source": [
        "# Variant 2 - Dice Loss\n",
        "learn = get_segmentation_learner(dls=dls, loss_func=DiceLoss(),\n",
        "                                 number_classes=11, segmentation_type=\"Semantic Segmentation\",\n",
        "                                 architecture_name=\"hrnet\", backbone_name=\"hrnet_w30\", \n",
        "                                 metrics=[DiceMulti()], wd=1e-2,\n",
        "                                 splitter=hrnet_splitter, pretrained=True).to_fp16()\n",
        "learn.freeze() # Freezing the backbone"
      ],
      "execution_count": null,
      "outputs": []
    },
    {
      "cell_type": "code",
      "metadata": {
        "id": "FHX0fNwopjWl"
      },
      "source": [
        "learn.lr_find() # find learning rate\n",
        "learn.recorder # plot learning rate graph"
      ],
      "execution_count": null,
      "outputs": []
    },
    {
      "cell_type": "code",
      "metadata": {
        "id": "y6gtwA9PpjOb"
      },
      "source": [
        "fname=\"hr-dice\"\n",
        "\n",
        "callbacksFitBeforeUnfreeze = [\n",
        "    ShowGraphCallback(),\n",
        "    EarlyStoppingCallback(monitor=monitor_training,comp=comp_training, patience=patience),\n",
        "    SaveModelCallback(monitor=monitor_training,comp=comp_training,every_epoch=False,fname=fname)  \n",
        "]\n",
        "learn.fit_one_cycle(5, slice(5e-3,1e-2), cbs=callbacksFitBeforeUnfreeze)"
      ],
      "execution_count": null,
      "outputs": []
    },
    {
      "cell_type": "code",
      "metadata": {
        "id": "jEy5jWoCpjFu"
      },
      "source": [
        "# Variant 3 - Dice + Focal Loss\n",
        "learn = get_segmentation_learner(dls=dls, loss_func=CombinedLoss(),\n",
        "                                 number_classes=11, segmentation_type=\"Semantic Segmentation\",\n",
        "                                 architecture_name=\"hrnet\", backbone_name=\"hrnet_w30\", \n",
        "                                 metrics=[DiceMulti()], wd=1e-2,\n",
        "                                 splitter=hrnet_splitter, pretrained=True).to_fp16()\n",
        "learn.freeze() # Freezing the backbone"
      ],
      "execution_count": null,
      "outputs": []
    },
    {
      "cell_type": "code",
      "metadata": {
        "id": "R6hgvDA-pi9N"
      },
      "source": [
        "learn.lr_find() # find learning rate\n",
        "learn.recorder # plot learning rate graph"
      ],
      "execution_count": null,
      "outputs": []
    },
    {
      "cell_type": "code",
      "metadata": {
        "id": "t9sC-IX9pi1u"
      },
      "source": [
        "fname=\"hr-dice+focal\"\n",
        "\n",
        "callbacksFitBeforeUnfreeze = [\n",
        "    ShowGraphCallback(),\n",
        "    EarlyStoppingCallback(monitor=monitor_training,comp=comp_training, patience=patience),\n",
        "    SaveModelCallback(monitor=monitor_training,comp=comp_training,every_epoch=False,fname=fname)  \n",
        "]\n",
        "learn.fit_one_cycle(5, slice(5e-3,1e-2), cbs=callbacksFitBeforeUnfreeze)"
      ],
      "execution_count": null,
      "outputs": []
    },
    {
      "cell_type": "markdown",
      "metadata": {
        "id": "mEjTroRrqPSr"
      },
      "source": [
        "**Architecture 3 - DeepLabv3+**"
      ]
    },
    {
      "cell_type": "code",
      "metadata": {
        "id": "_sJONUcapiox"
      },
      "source": [
        "# Define DataBlock and DataLoader\n",
        "manual = DataBlock(blocks=(ImageBlock, MaskBlock(codes)),\n",
        "                   get_items=partial(get_image_files,folders=[manual_name]),\n",
        "                   get_y=get_y_fn,\n",
        "                   splitter=RandomSplitter(valid_pct=0.1,seed=2020),\n",
        "                   item_tfms=[Resize((size,size)), TargetMaskConvertTransform(), transformPipeline],\n",
        "                   batch_tfms=[Normalize.from_stats(*imagenet_stats)]\n",
        ")\n",
        "manual.summary(path_images)\n",
        "dls = manual.dataloaders(path_images,bs=16)\n",
        "dls.show_batch(vmin=0,vmax=1,figsize=(12, 9))\n",
        "dls.vocab=codes\n",
        "\n",
        "def segmentron_splitter(model):\n",
        "    return [params(model.backbone), params(model.head)] #Freeze backbone, tune head"
      ],
      "execution_count": null,
      "outputs": []
    },
    {
      "cell_type": "code",
      "metadata": {
        "id": "tqENLcq6qeVO"
      },
      "source": [
        "# Variant 1 - CCE Loss\n",
        "learn = get_segmentation_learner(dls=dls, number_classes=11, segmentation_type=\"Semantic Segmentation\",\n",
        "                                 architecture_name=\"deeplabv3+\", backbone_name=\"resnet50\", \n",
        "                                 metrics=[DiceMulti()],wd=1e-2, #Weight Decay\n",
        "                                 splitter=segmentron_splitter).to_fp16()\n",
        "learn.freeze() # Freezing the backbone"
      ],
      "execution_count": null,
      "outputs": []
    },
    {
      "cell_type": "code",
      "metadata": {
        "id": "U5pcyhiRqeNX"
      },
      "source": [
        "learn.lr_find() # find learning rate\n",
        "learn.recorder # plot learning rate graph"
      ],
      "execution_count": null,
      "outputs": []
    },
    {
      "cell_type": "code",
      "metadata": {
        "id": "-p0XvuvGqeFB"
      },
      "source": [
        "fname=\"deeplab-cce\"\n",
        "\n",
        "callbacksFitBeforeUnfreeze = [\n",
        "    ShowGraphCallback(),\n",
        "    EarlyStoppingCallback(monitor=monitor_training,comp=comp_training, patience=patience),\n",
        "    SaveModelCallback(monitor=monitor_training,comp=comp_training,every_epoch=False,fname=fname)  \n",
        "]\n",
        "learn.fit_one_cycle(5, slice(5e-3,1e-2), cbs=callbacksFitBeforeUnfreeze)"
      ],
      "execution_count": null,
      "outputs": []
    },
    {
      "cell_type": "code",
      "metadata": {
        "id": "InDcCVpIqd8U"
      },
      "source": [
        "# Variant 2 - Dice Loss\n",
        "learn = get_segmentation_learner(dls=dls, loss_func=DiceLoss(), number_classes=11, segmentation_type=\"Semantic Segmentation\",\n",
        "                                 architecture_name=\"deeplabv3+\", backbone_name=\"resnet50\", \n",
        "                                 metrics=[DiceMulti()],wd=1e-2, #Weight Decay\n",
        "                                 splitter=segmentron_splitter).to_fp16()\n",
        "learn.freeze() # Freezing the backbone"
      ],
      "execution_count": null,
      "outputs": []
    },
    {
      "cell_type": "code",
      "metadata": {
        "id": "dCopK4gGqdzf"
      },
      "source": [
        "learn.lr_find() # find learning rate\n",
        "learn.recorder # plot learning rate graph"
      ],
      "execution_count": null,
      "outputs": []
    },
    {
      "cell_type": "code",
      "metadata": {
        "id": "4ceSLuWNqdrP"
      },
      "source": [
        "fname=\"deeplab-dice\"\n",
        "\n",
        "callbacksFitBeforeUnfreeze = [\n",
        "    ShowGraphCallback(),\n",
        "    EarlyStoppingCallback(monitor=monitor_training,comp=comp_training, patience=patience),\n",
        "    SaveModelCallback(monitor=monitor_training,comp=comp_training,every_epoch=False,fname=fname)  \n",
        "]\n",
        "learn.fit_one_cycle(5, slice(5e-3,1e-2), cbs=callbacksFitBeforeUnfreeze)"
      ],
      "execution_count": null,
      "outputs": []
    },
    {
      "cell_type": "code",
      "metadata": {
        "id": "F_1H50Drqdiu"
      },
      "source": [
        "# Variant 3 - Dice + Focal Loss\n",
        "learn = get_segmentation_learner(dls=dls, loss_func=CombinedLoss(), number_classes=11, segmentation_type=\"Semantic Segmentation\",\n",
        "                                 architecture_name=\"deeplabv3+\", backbone_name=\"resnet50\", \n",
        "                                 metrics=[DiceMulti()],wd=1e-2, #Weight Decay\n",
        "                                 splitter=segmentron_splitter).to_fp16()\n",
        "learn.freeze() # Freezing the backbone"
      ],
      "execution_count": null,
      "outputs": []
    },
    {
      "cell_type": "code",
      "metadata": {
        "id": "fr8uIzOuqdYL"
      },
      "source": [
        "learn.lr_find() # find learning rate\n",
        "learn.recorder # plot learning rate graph"
      ],
      "execution_count": null,
      "outputs": []
    },
    {
      "cell_type": "code",
      "metadata": {
        "id": "lEoylnkxpPlw"
      },
      "source": [
        "fname=\"deeplab-dice+focal\"\n",
        "\n",
        "callbacksFitBeforeUnfreeze = [\n",
        "    ShowGraphCallback(),\n",
        "    EarlyStoppingCallback(monitor=monitor_training,comp=comp_training, patience=patience),\n",
        "    SaveModelCallback(monitor=monitor_training,comp=comp_training,every_epoch=False,fname=fname)  \n",
        "]\n",
        "learn.fit_one_cycle(5, slice(5e-3,1e-2), cbs=callbacksFitBeforeUnfreeze)"
      ],
      "execution_count": null,
      "outputs": []
    }
  ]
}